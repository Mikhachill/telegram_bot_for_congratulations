{
 "cells": [
  {
   "cell_type": "code",
   "execution_count": 112,
   "metadata": {},
   "outputs": [
    {
     "name": "stderr",
     "output_type": "stream",
     "text": [
      "2020-06-17 13:36:46,467 (util.py:68 PollingThread) ERROR - TeleBot: \"ApiException occurred, args=('A request to the Telegram API was unsuccessful. The server returned HTTP 409 Conflict. Response body:\\n[b\\'{\"ok\":false,\"error_code\":409,\"description\":\"Conflict: terminated by other getUpdates request; make sure that only one bot instance is running\"}\\']',)\n",
      "Traceback (most recent call last):\n",
      "  File \"/home/mikhail/bot_dev/lib64/python3.8/site-packages/telebot/util.py\", line 62, in run\n",
      "    task(*args, **kwargs)\n",
      "  File \"/home/mikhail/bot_dev/lib64/python3.8/site-packages/telebot/__init__.py\", line 281, in __retrieve_updates\n",
      "    updates = self.get_updates(offset=(self.last_update_id + 1), timeout=timeout)\n",
      "  File \"/home/mikhail/bot_dev/lib64/python3.8/site-packages/telebot/__init__.py\", line 251, in get_updates\n",
      "    json_updates = apihelper.get_updates(self.token, offset, limit, timeout, allowed_updates)\n",
      "  File \"/home/mikhail/bot_dev/lib64/python3.8/site-packages/telebot/apihelper.py\", line 199, in get_updates\n",
      "    return _make_request(token, method_url, params=payload)\n",
      "  File \"/home/mikhail/bot_dev/lib64/python3.8/site-packages/telebot/apihelper.py\", line 65, in _make_request\n",
      "    return _check_result(method_name, result)['result']\n",
      "  File \"/home/mikhail/bot_dev/lib64/python3.8/site-packages/telebot/apihelper.py\", line 84, in _check_result\n",
      "    raise ApiException(msg, method_name, result)\n",
      "telebot.apihelper.ApiException: A request to the Telegram API was unsuccessful. The server returned HTTP 409 Conflict. Response body:\n",
      "[b'{\"ok\":false,\"error_code\":409,\"description\":\"Conflict: terminated by other getUpdates request; make sure that only one bot instance is running\"}']\n",
      "\"\n"
     ]
    },
    {
     "name": "stdout",
     "output_type": "stream",
     "text": [
      "    User_Name     Status   Owner_ID  Congratulations_ID Path_to_Audio\n",
      "0  @Lostbrown  начальник  440324273                   0             _\n",
      "1  @Lostbrown  начальник  440324273                   1             _\n",
      "    User_Name     Status   Owner_ID  Congratulations_ID Path_to_Audio\n",
      "0  @Lostbrown  начальник  440324273                   0             _\n",
      "1  @Lostbrown  начальник  440324273                   1             _\n",
      "2        @лол    рядовой  440324273                   1             _\n",
      "    User_Name     Status   Owner_ID  Congratulations_ID Path_to_Audio\n",
      "0  @Lostbrown  начальник  440324273                   0             _\n",
      "1  @Lostbrown  начальник  440324273                   1             _\n",
      "2        @лол    рядовой  440324273                   1             _\n",
      "3      @хвост    рядовой  440324273                   1             _\n",
      "    User_Name     Status   Owner_ID  Congratulations_ID Path_to_Audio\n",
      "0  @Lostbrown  начальник  440324273                   0             _\n",
      "1  @Lostbrown  начальник  440324273                   1             _\n",
      "2        @лол    рядовой  440324273                   1             _\n",
      "3      @хвост    рядовой  440324273                   1             _\n",
      "4      @прямо    рядовой  440324273                   1             _\n",
      "    User_Name     Status   Owner_ID  Congratulations_ID Path_to_Audio\n",
      "0  @Lostbrown  начальник  440324273                   0             _\n",
      "1  @Lostbrown  начальник  440324273                   1             _\n",
      "2        @лол    рядовой  440324273                   1             _\n",
      "3      @хвост    рядовой  440324273                   1             _\n",
      "4      @прямо    рядовой  440324273                   1             _\n",
      "5     @@криво  одоряемый  440324273                   1             _\n",
      "Упоминания пользователя в бд     User_Name     Status   Owner_ID  Congratulations_ID Path_to_Audio\n",
      "0  @Lostbrown  начальник  440324273                   0             _\n",
      "1  @Lostbrown  начальник  440324273                   1             _\n",
      "    User_Name     Status   Owner_ID  Congratulations_ID Path_to_Audio\n",
      "0  @Lostbrown  начальник  440324273                   0             _\n",
      "1  @Lostbrown  начальник  440324273                   1             _\n",
      "Успешно создана директория Все поздравления/криво\n",
      "    User_Name     Status   Owner_ID  Congratulations_ID  \\\n",
      "0  @Lostbrown  начальник  440324273                   0   \n",
      "1  @Lostbrown  начальник  440324273                   1   \n",
      "2        @лол    рядовой  440324273                   1   \n",
      "3      @хвост    рядовой  440324273                   1   \n",
      "4      @прямо    рядовой  440324273                   1   \n",
      "5     @@криво  одоряемый  440324273                   1   \n",
      "\n",
      "            Path_to_Audio  \n",
      "0                       _  \n",
      "1  Все поздравления/криво  \n",
      "2                       _  \n",
      "3                       _  \n",
      "4                       _  \n",
      "5                       _  \n"
     ]
    }
   ],
   "source": [
    "import telebot\n",
    "import pandas as pd\n",
    "import numpy as np\n",
    "import random\n",
    "from telebot import types\n",
    "import sqlite3\n",
    "import re\n",
    "import os\n",
    "from pydub import AudioSegment\n",
    "\n",
    "\n",
    "#0. добавить отправление сообщения пользователю\n",
    "#1.добавить в базу данных ссылку на файл от пользователя - колонка \n",
    "#+3.научиться загружать аудиозаписи от пользователей., спрашивать пользователя если в базе несколько поздравлений с ним \n",
    "#+кого он пришел поздравлять (показывать ему ники)\n",
    "#4.найти библиотеку чтобы склеивать записи, склеить записи, возможно добавить еще колонку что запись сделана\n",
    "#5.отослать поздравление использовать библиотеку time\n",
    "\n",
    "#логирование\n",
    "#import logging\n",
    "#logger=telebot.logger\n",
    "#telebot.logger.setLevel(logging.DEBUG)\n",
    "\n",
    "bot= telebot.TeleBot('1236450831:AAFvNbHUO5fkEsb1iCh3DA9xL_1oqkyq9pM')\n",
    "\n",
    "status=''\n",
    "owner_id=''\n",
    "congratulation=0\n",
    "name_for_congr='___'\n",
    "name_for_voice=''\n",
    "owner_data=''\n",
    "file_id_info=''\n",
    "who_send=''\n",
    "id_congr_for_audio=''\n",
    "\n",
    "@bot.message_handler(func=lambda message: message.text== 'Привет' or message.text== 'привет'  )\n",
    "def get_callback_query(message): \n",
    "    if message.text == \"Привет\" or message.text == \"привет\":\n",
    "        bot.send_message(message.from_user.id, 'Привет я бот поздравлений, я помогу сделать тебе коллективное аудиопоздравление') \n",
    "        global owner_data\n",
    "        owner_data=message.from_user.username +' '+ str(message.from_user.id)\n",
    "        in_keyboard=generate_inline_keyboard([['Примеры поздравлений','Примеры поздравлений'],['Как это работает','Как это работает'],['Приступить к поздравлению',owner_data]])\n",
    "        \n",
    "        bot.send_message(message.from_user.id,'Используй кнопки', reply_markup=in_keyboard)\n",
    "    else:\n",
    "        bot.send_message(message.from_user.id, \"Я тебя не понимаю. Напиши - привет\")\n",
    "        \n",
    "@bot.message_handler(content_types=['text']) #ввод\n",
    "def get_text_message(message):\n",
    "    global owner_id\n",
    "    global status\n",
    "    global congratulation\n",
    "\n",
    "    name=str(re.findall('@'+r'\\w',message.text)) #используем регулярное выражение. оно берет @ и первую букву ника\n",
    "    name=name[2:4]\n",
    "    #print('обработанное имя',name)\n",
    "    #print('первые две буквы имени',message.text[0:2])\n",
    "    if name == message.text[0:2]: \n",
    "        owner_id=message.from_user.id\n",
    "        status='рядовой'\n",
    "        insert_to_database(message.text,status,message.from_user.id,congratulation)\n",
    "    elif '@@' in message.text:\n",
    "        owner_id=message.from_user.id\n",
    "        status='одоряемый'\n",
    "        insert_to_database(message.text,status,message.from_user.id,congratulation)\n",
    "         \n",
    "    else:\n",
    "        bot.send_message(message.from_user.id,'Ты хочешь собрать друзей и поздравить человека напиши - привет')\n",
    "        bot.send_message(message.from_user.id,'Если ты просто хочешь записать аудио, просто нажми на микрофон и запиши аудио как обычно, а все остальное я сделаю сам')\n",
    "\n",
    "        \n",
    "@bot.callback_query_handler(func=lambda call:True) # ответ на ввд\n",
    "def call_back(call):\n",
    "    global name_for_congr\n",
    "    global name_for_voice\n",
    "    global owner_data\n",
    "    global id_congr_for_audio\n",
    "\n",
    "    if call.data=='Как это работает':\n",
    "        bot.send_message(call.message.chat.id,'1. Отметить всех участников поздравления\\n2. Бот отправит участникам приглашение для поздравления\\n3. Участники поздравления запишут 10 сикундную аудиозапись\\n4. Бот скомпанует аудиозапись и наложит музыку\\n5. Бот отправит адресату в нужный день и позвонит при необходимост\\n6. Участники поздравления получат полную запись и обратную связь от одоряемого')\n",
    "    elif call.data=='Примеры поздравлений':\n",
    "        bot.send_message(call.message.chat.id, 'Прослушай пример поздравления')        \n",
    "        audio=open('/home/mikhail/09.06.2020.mp3','rb')\n",
    "        bot.send_audio(call.message.chat.id,audio)\n",
    "\n",
    "        \n",
    "    elif call.data==owner_data:\n",
    "        congratulation=congratulation_count()\n",
    "        bot.send_message(call.message.chat.id, 'отошли людям которые будут участвовать в поздравлении название бота, только так они смогут сюда попасть:')\n",
    "        bot.send_message(call.message.chat.id, '@toll_toll_happy_bot')\n",
    "\n",
    "        bot.send_message(call.message.chat.id, 'Напиши ники людей с которыми ты хочешь участвовать в поздравлении, обязательно начинай ники с символа @, пожалуйста каждого нового человека пришли новым сообщением, образец - @Никнейм')\n",
    "        bot.send_message(call.message.chat.id, 'Напиши ник человека, которого ты хочешь поздравить, вот образец -  @@Никнейм')\n",
    "        status='начальник'\n",
    "        for i in range(len(call.data)):\n",
    "            if call.data[i]==' ':\n",
    "                name='@'+call.data[0:i]\n",
    "                id_=call.data[i+1::]\n",
    "        insert_to_database(name,status,id_,congratulation)\n",
    "    \n",
    "    else:\n",
    "        # определим имя директории, которую создаём \n",
    "        global who_send\n",
    "        global file_id_info \n",
    "        bot.send_message(call.message.chat.id, f'я добавил твою запись в папку {call.data}')\n",
    "\n",
    "        path = f\"Все поздравления/{call.data}\"\n",
    "        try:\n",
    "            os.makedirs(path)\n",
    "        except OSError:\n",
    "            print (\"Создать директорию %s не удалось\" % path)\n",
    "        else:\n",
    "            print (\"Успешно создана директория %s\" % path)     \n",
    "        download_file=bot.download_file(file_id_info.file_path)\n",
    "        with open(os.path.join(f'Все поздравления/{call.data}', f'поздравление от {who_send}.wav'), 'wb') as f: \n",
    "            f.write(download_file)\n",
    "            \n",
    "     \n",
    "        insert_audio_path_to_database(f'Все поздравления/{call.data}',id_congr_for_audio,'@'+f'{who_send}') \n",
    "        \n",
    "        conn=sqlite3.connect('Happy_Users.db')\n",
    "        c=conn.cursor()\n",
    "        conn.close    \n",
    "        data=pd.read_sql('SELECT * from Happy_Users',conn)\n",
    "        ss=0\n",
    "        for i in range(len(data.index)):\n",
    "            buffer= data[data['Congratulations_ID'==i]\n",
    "            buffer.index=np.arange(len(buffer))\n",
    "            for j in range(len(buffer.index)):   \n",
    "                if 'Все' in buffer.loc[j,'Path_to_Audio']:\n",
    "                    ss+=1\n",
    "                    if len(buffer.index) == (ss-1):\n",
    "                         #Склеиваем запись\n",
    "                        sound1 = AudioSegment.from_wav(\"filename01.wav\")\n",
    "                        sound2 = AudioSegment.from_wav(\"filename02.wav\")\n",
    "                        combined_sounds = sound1 + sound2  \n",
    "                        combined_sounds.export(\"joinedFile.wav\", format=\"wav\")\n",
    "                         \n",
    "                         \n",
    "\n",
    "                   \n",
    "            \n",
    "\n",
    "    \n",
    "\n",
    "        \n",
    "\n",
    "    \n",
    "#{'file_id': 'AwACAgIAAxkBAAII8F7onjNKM78N5P_jrEnPsTXQRtJeAAKuBQACfsdIS1VR_2MMuskpGgQ',\n",
    "#'duration': 0, 'performer': None, 'title': None, 'mime_type': 'audio/ogg', 'file_size': 3022}\n",
    "@bot.message_handler(content_types=['voice'])\n",
    "def get_audio_message_from_owner(message):\n",
    "    global who_send\n",
    "    global file_id_info\n",
    "    global id_congr_for_audio\n",
    "\n",
    "    congratulation=congratulation_count()\n",
    "    conn=sqlite3.connect('Happy_Users.db')\n",
    "    c=conn.cursor()\n",
    "    conn.close    \n",
    "    data=pd.read_sql('SELECT * from Happy_Users',conn)\n",
    "    print('Упоминания пользователя в бд',data[data['User_Name'] == '@'+message.from_user.username])\n",
    "    \n",
    "    #ищем людей для которых мы указаны как поздравитель\n",
    "    who_send=message.from_user.username\n",
    "    user=data[data['User_Name'] == '@' + message.from_user.username]\n",
    "    user.index = np.arange(len(user))\n",
    "    ii=0\n",
    "    print(user)\n",
    "    file_id_info=bot.get_file(message.voice.file_id)\n",
    "    \n",
    "    for i in range(len(data.index)):\n",
    "        for j in range(len(user.index)):\n",
    "            if data.loc[i,'Congratulations_ID']==user.loc[j,'Congratulations_ID']:\n",
    "                if data.loc[i,'Status'] == 'одоряемый':\n",
    "                    id_congr_for_audio=user.loc[j,'Congratulations_ID']\n",
    "                    name_for_congr=data.loc[i,'User_Name']\n",
    "                    name_for_congr=name_for_congr[2::]\n",
    "                    in_keyboard1= types.InlineKeyboardMarkup()\n",
    "                    button = types.InlineKeyboardButton(text=f'Выбрать {name_for_congr} для поздралвения',callback_data=name_for_congr)\n",
    "                    in_keyboard1.add(button)\n",
    "                    bot.send_message(message.from_user.id,'Кому адресовано это аудиосообщение', reply_markup=in_keyboard1)\n",
    "    \n",
    "\n",
    "\n",
    "\n",
    "        \n",
    "#делаем инлайн клавиатуру\n",
    "def generate_inline_keyboard(list_=[]):\n",
    "    in_keyboard= types.InlineKeyboardMarkup()\n",
    "    for i in list_:\n",
    "        button = types.InlineKeyboardButton(text=i[0],callback_data=i[1])\n",
    "        in_keyboard.add(button)\n",
    "    return in_keyboard\n",
    "    \n",
    "#делаем обычную кнопку клавиатуру\n",
    "def generate_keyboard(*args):\n",
    "    keyboard= types.ReplyKeyboardMarkup(one_time_keyboard=True, resize_keyboard=True)\n",
    "    for i in args:\n",
    "        button = types.KeyboardButton(i)\n",
    "        keyboard.add(button)\n",
    "    return keyboard\n",
    "#keyboard=generate_keyboard('записать аудио', 'поздравить')\n",
    "#bot.send_message(message.chat.id,msg,reply_markup=keyboard)\n",
    "\n",
    "#добавляем в базу поздравителей\n",
    "def insert_to_database(msg,status,owner_id,congratulation,path_to_audio='_'):\n",
    "    conn=sqlite3.connect('Happy_Users.db')\n",
    "    c=conn.cursor()\n",
    "    param=[(msg,status,owner_id,congratulation,path_to_audio)]\n",
    "    c.executemany(\"INSERT INTO Happy_Users VALUES (?,?,?,?,?)\", param)\n",
    "    conn.commit()\n",
    "    conn.close\n",
    "    \n",
    "    data=pd.read_sql('SELECT * from Happy_Users',conn)\n",
    "    print(data)\n",
    "    \n",
    "def insert_audio_path_to_database(path_to_audio, congr_id_for_audio, user_name_for_audio):\n",
    "    path_to_audio=\"'\"+str(path_to_audio)+\"'\"\n",
    "    \n",
    "    user_name_for_audio=\"'\"+(user_name_for_audio)+\"'\"\n",
    "    \n",
    "\n",
    "    conn=sqlite3.connect('Happy_Users.db')\n",
    "    c=conn.cursor()\n",
    "    sql=f\"\"\" UPDATE Happy_Users SET Path_to_Audio = {path_to_audio} WHERE User_Name= {user_name_for_audio} AND Congratulations_ID={congr_id_for_audio}\"\"\"\n",
    "    c.execute(sql)\n",
    "    conn.commit()\n",
    "    conn.close\n",
    "    \n",
    "    data=pd.read_sql('SELECT * from Happy_Users',conn)\n",
    "    print(data)\n",
    "    \n",
    "\n",
    "    \n",
    "#подсчитываем количество начальников поздравлений и по сути присваиваем каждой группе поздравляющих свой номер\n",
    "def congratulation_count():\n",
    "    global congratulation\n",
    "    conn=sqlite3.connect('Happy_Users.db')\n",
    "    c=conn.cursor()\n",
    "    conn.close    \n",
    "    data=pd.read_sql('SELECT * from Happy_Users',conn)\n",
    "    congratulation=len(data[data['Status']=='начальник'].index)\n",
    "    return congratulation\n",
    "\n",
    "\n",
    "bot.polling(none_stop=True, interval=0)"
   ]
  },
  {
   "cell_type": "code",
   "execution_count": 110,
   "metadata": {},
   "outputs": [
    {
     "name": "stdout",
     "output_type": "stream",
     "text": [
      "Empty DataFrame\n",
      "Columns: [User_Name, Status, Owner_ID, Congratulations_ID, Path_to_Audio]\n",
      "Index: []\n"
     ]
    }
   ],
   "source": [
    "import sqlite3\n",
    "\n",
    "conn=sqlite3.connect('Happy_Users.db')\n",
    "\n",
    "c=conn.cursor()\n",
    "c.execute('''CREATE TABLE Happy_Users ('User_Name','Status','Owner_ID','Congratulations_ID','Path_to_Audio')''')\n",
    "conn.commit()\n",
    "conn.close\n",
    "data=pd.read_sql('SELECT * from Happy_Users',conn)\n",
    "print(data)\n"
   ]
  },
  {
   "cell_type": "code",
   "execution_count": 106,
   "metadata": {},
   "outputs": [
    {
     "data": {
      "text/plain": [
       "'@L'"
      ]
     },
     "execution_count": 106,
     "metadata": {},
     "output_type": "execute_result"
    }
   ],
   "source": [
    "name=str(re.findall('@'+r'\\w','@Lostbrown')) #используем регулярное выражение . оно берет @ и первую букву ника\n",
    "name=name[2:4]\n",
    "name"
   ]
  },
  {
   "cell_type": "code",
   "execution_count": 87,
   "metadata": {},
   "outputs": [
    {
     "data": {
      "text/plain": [
       "'440324273'"
      ]
     },
     "execution_count": 87,
     "metadata": {},
     "output_type": "execute_result"
    }
   ],
   "source": [
    "call='Lostbrown'+' '+'440324273'\n",
    "for i in range(len(call)):\n",
    "    if call[i]==' ':\n",
    "        name='@'+call[0:i]\n",
    "        id_=call[i+1::]"
   ]
  },
  {
   "cell_type": "code",
   "execution_count": 101,
   "metadata": {},
   "outputs": [
    {
     "data": {
      "text/plain": [
       "'@@'"
      ]
     },
     "execution_count": 101,
     "metadata": {},
     "output_type": "execute_result"
    }
   ],
   "source": [
    "a='@@L'\n",
    "a[0:2]"
   ]
  },
  {
   "cell_type": "code",
   "execution_count": 125,
   "metadata": {},
   "outputs": [
    {
     "data": {
      "text/plain": [
       "5"
      ]
     },
     "execution_count": 125,
     "metadata": {},
     "output_type": "execute_result"
    }
   ],
   "source": [
    "data=pd.read_sql('SELECT * from Happy_Users',conn)\n",
    "len(data[data['Status']=='начальник поздравления'].index)\n"
   ]
  },
  {
   "cell_type": "code",
   "execution_count": 5,
   "metadata": {},
   "outputs": [
    {
     "ename": "NameError",
     "evalue": "name 'user' is not defined",
     "output_type": "error",
     "traceback": [
      "\u001b[0;31m---------------------------------------------------------------------------\u001b[0m",
      "\u001b[0;31mNameError\u001b[0m                                 Traceback (most recent call last)",
      "\u001b[0;32m<ipython-input-5-70ff9f33926b>\u001b[0m in \u001b[0;36m<module>\u001b[0;34m\u001b[0m\n\u001b[0;32m----> 1\u001b[0;31m \u001b[0muser\u001b[0m\u001b[0;34m\u001b[0m\u001b[0;34m\u001b[0m\u001b[0m\n\u001b[0m",
      "\u001b[0;31mNameError\u001b[0m: name 'user' is not defined"
     ]
    }
   ],
   "source": []
  },
  {
   "cell_type": "code",
   "execution_count": 31,
   "metadata": {},
   "outputs": [
    {
     "name": "stdout",
     "output_type": "stream",
     "text": [
      "None\n"
     ]
    }
   ],
   "source": [
    "def xx(x):\n",
    "    x=1\n",
    "    \n",
    "x=xx(1)\n",
    "print(x)"
   ]
  },
  {
   "cell_type": "code",
   "execution_count": 39,
   "metadata": {},
   "outputs": [],
   "source": [
    "import os\n",
    "os.mkdir('kk')"
   ]
  },
  {
   "cell_type": "code",
   "execution_count": null,
   "metadata": {},
   "outputs": [],
   "source": []
  }
 ],
 "metadata": {
  "kernelspec": {
   "display_name": "Python 3",
   "language": "python",
   "name": "python3"
  },
  "language_info": {
   "codemirror_mode": {
    "name": "ipython",
    "version": 3
   },
   "file_extension": ".py",
   "mimetype": "text/x-python",
   "name": "python",
   "nbconvert_exporter": "python",
   "pygments_lexer": "ipython3",
   "version": "3.8.3"
  }
 },
 "nbformat": 4,
 "nbformat_minor": 4
}
