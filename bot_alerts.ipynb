{
 "cells": [
  {
   "cell_type": "code",
   "execution_count": null,
   "metadata": {},
   "outputs": [],
   "source": [
    "https://python-scripts.com/requests#method-get-requests\n",
    "\n",
    "curl -X POST -H 'Content-type: application/json' --data '{\"text\":\"Hello, World!\"}' https://hooks.slack.com/services/_\n",
    "\n"
   ]
  },
  {
   "cell_type": "code",
   "execution_count": null,
   "metadata": {},
   "outputs": [],
   "source": [
    "import os \n",
    "import time \n",
    "import requests\n",
    "from requests.adapters import HTTPAdapter\n",
    "from requests.exceptions import ConnectionError\n",
    "\n",
    "\n",
    "\n",
    "\n",
    "def send_message(message):\n",
    "    headers = {'Content-type': 'application/json'}\n",
    "    data = f'\"text\":\"{message}\"'\n",
    "    data = '{'+data +'}'\n",
    "    response = requests.post('https://hooks.slack.com/services/_', headers=headers, data=data)\n",
    "\n",
    "    \n",
    "def site_state(site_name):\n",
    "    ainews_adapter=HTTPAdapter(max_retries=3)\n",
    "    session = requests.Session()\n",
    "    session.mount(site_name, ainews_adapter) \n",
    "    \n",
    "    try:\n",
    "        response=session.get(site_name)\n",
    "        return response.status_code\n",
    "    except ConnectionError as ce:\n",
    "        return ce\n",
    "    \n",
    "\n",
    "starttime=time.time()\n",
    "\n",
    "while True:\n",
    "    time.sleep(2)\n",
    "    send_message(\"STATUS CODE \"+ str(site_state('https://ain.ru')) + \" for https://ain.ru\")\n",
    "    \n",
    "    time.sleep(2)\n",
    "    send_message('STATUS CODE '+ str(site_state('https://a.ru/'))+ ' for https://a.ru/')\n",
    "    \n",
    "    time.sleep(600.0 - ((time.time() - starttime) % 600.0))\n"
   ]
  },
  {
   "cell_type": "code",
   "execution_count": null,
   "metadata": {},
   "outputs": [],
   "source": [
    "response.text"
   ]
  },
  {
   "cell_type": "code",
   "execution_count": null,
   "metadata": {},
   "outputs": [],
   "source": [
    "response.headers"
   ]
  },
  {
   "cell_type": "code",
   "execution_count": null,
   "metadata": {},
   "outputs": [],
   "source": [
    "session = requests.Session()\n",
    "\n",
    "response=session.get('https:/sdfs.ru')\n"
   ]
  },
  {
   "cell_type": "code",
   "execution_count": null,
   "metadata": {},
   "outputs": [],
   "source": [
    "response"
   ]
  },
  {
   "cell_type": "code",
   "execution_count": null,
   "metadata": {},
   "outputs": [],
   "source": []
  }
 ],
 "metadata": {
  "kernelspec": {
   "display_name": "Python 3",
   "language": "python",
   "name": "python3"
  },
  "language_info": {
   "codemirror_mode": {
    "name": "ipython",
    "version": 3
   },
   "file_extension": ".py",
   "mimetype": "text/x-python",
   "name": "python",
   "nbconvert_exporter": "python",
   "pygments_lexer": "ipython3",
   "version": "3.8.5"
  }
 },
 "nbformat": 4,
 "nbformat_minor": 4
}
